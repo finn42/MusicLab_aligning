{
 "cells": [
  {
   "cell_type": "code",
   "execution_count": 1,
   "metadata": {},
   "outputs": [],
   "source": [
    "import sys\n",
    "import os\n",
    "import time\n",
    "import datetime as dt\n",
    "import math\n",
    "import numpy as np \n",
    "import scipy as sp\n",
    "import pandas as pd\n",
    "import matplotlib.pyplot as plt\n",
    "import seaborn as sns\n",
    "import pingouin as pg\n",
    "from scipy.signal import butter,filtfilt\n",
    "from scipy import interpolate\n",
    "from scipy.interpolate import interp1d\n",
    "\n",
    "import activityanalysis_test as act\n",
    "import respy_test as respy"
   ]
  },
  {
   "cell_type": "code",
   "execution_count": 2,
   "metadata": {},
   "outputs": [],
   "source": [
    "# conditions for comparison 246900 289766\n",
    "units = 1000 # ms\n",
    "fs = 50/units # 10 Hz\n",
    "\n",
    "cutoff = np.array([0.5])/units # filtering to between 1 and 0.05 hz\n",
    "nyq = 1 * fs \n",
    "order = 2 \n",
    "normal_cutoff = cutoff / nyq\n",
    "b, a = butter(order, normal_cutoff, btype='lowpass', analog=False)"
   ]
  },
  {
   "cell_type": "code",
   "execution_count": 3,
   "metadata": {},
   "outputs": [
    {
     "data": {
      "text/html": [
       "<div>\n",
       "<style scoped>\n",
       "    .dataframe tbody tr th:only-of-type {\n",
       "        vertical-align: middle;\n",
       "    }\n",
       "\n",
       "    .dataframe tbody tr th {\n",
       "        vertical-align: top;\n",
       "    }\n",
       "\n",
       "    .dataframe thead th {\n",
       "        text-align: right;\n",
       "    }\n",
       "</style>\n",
       "<table border=\"1\" class=\"dataframe\">\n",
       "  <thead>\n",
       "    <tr style=\"text-align: right;\">\n",
       "      <th></th>\n",
       "      <th>Time (s)</th>\n",
       "      <th>Element</th>\n",
       "    </tr>\n",
       "    <tr>\n",
       "      <th>Time (ms)</th>\n",
       "      <th></th>\n",
       "      <th></th>\n",
       "    </tr>\n",
       "  </thead>\n",
       "  <tbody>\n",
       "    <tr>\n",
       "      <th>0.0</th>\n",
       "      <td>0.000</td>\n",
       "      <td>Trial number</td>\n",
       "    </tr>\n",
       "    <tr>\n",
       "      <th>2136.0</th>\n",
       "      <td>2.136</td>\n",
       "      <td>Part 1 Synchronisation</td>\n",
       "    </tr>\n",
       "    <tr>\n",
       "      <th>20000.0</th>\n",
       "      <td>20.000</td>\n",
       "      <td>taps</td>\n",
       "    </tr>\n",
       "    <tr>\n",
       "      <th>23450.0</th>\n",
       "      <td>23.450</td>\n",
       "      <td>Part 2 Listening task 1</td>\n",
       "    </tr>\n",
       "    <tr>\n",
       "      <th>32000.0</th>\n",
       "      <td>32.000</td>\n",
       "      <td>Silence 1</td>\n",
       "    </tr>\n",
       "    <tr>\n",
       "      <th>62000.0</th>\n",
       "      <td>62.000</td>\n",
       "      <td>Music 1</td>\n",
       "    </tr>\n",
       "    <tr>\n",
       "      <th>92500.0</th>\n",
       "      <td>92.500</td>\n",
       "      <td>Part 3 Moving tasks</td>\n",
       "    </tr>\n",
       "    <tr>\n",
       "      <th>101000.0</th>\n",
       "      <td>101.000</td>\n",
       "      <td>Verbalise</td>\n",
       "    </tr>\n",
       "    <tr>\n",
       "      <th>112000.0</th>\n",
       "      <td>112.000</td>\n",
       "      <td>Move</td>\n",
       "    </tr>\n",
       "    <tr>\n",
       "      <th>121000.0</th>\n",
       "      <td>121.000</td>\n",
       "      <td>move to music</td>\n",
       "    </tr>\n",
       "    <tr>\n",
       "      <th>126000.0</th>\n",
       "      <td>126.000</td>\n",
       "      <td>Music 2</td>\n",
       "    </tr>\n",
       "    <tr>\n",
       "      <th>156000.0</th>\n",
       "      <td>156.000</td>\n",
       "      <td>Part 4 Listening task 2</td>\n",
       "    </tr>\n",
       "    <tr>\n",
       "      <th>168000.0</th>\n",
       "      <td>168.000</td>\n",
       "      <td>Music 3</td>\n",
       "    </tr>\n",
       "    <tr>\n",
       "      <th>198000.0</th>\n",
       "      <td>198.000</td>\n",
       "      <td>Phone realignment</td>\n",
       "    </tr>\n",
       "    <tr>\n",
       "      <th>206000.0</th>\n",
       "      <td>206.000</td>\n",
       "      <td>Music 4</td>\n",
       "    </tr>\n",
       "    <tr>\n",
       "      <th>236000.0</th>\n",
       "      <td>236.000</td>\n",
       "      <td>Silence 2</td>\n",
       "    </tr>\n",
       "    <tr>\n",
       "      <th>266000.0</th>\n",
       "      <td>266.000</td>\n",
       "      <td>Thanks</td>\n",
       "    </tr>\n",
       "    <tr>\n",
       "      <th>270000.0</th>\n",
       "      <td>270.000</td>\n",
       "      <td>Trial end</td>\n",
       "    </tr>\n",
       "  </tbody>\n",
       "</table>\n",
       "</div>"
      ],
      "text/plain": [
       "           Time (s)                  Element\n",
       "Time (ms)                                   \n",
       "0.0           0.000             Trial number\n",
       "2136.0        2.136   Part 1 Synchronisation\n",
       "20000.0      20.000                     taps\n",
       "23450.0      23.450  Part 2 Listening task 1\n",
       "32000.0      32.000                Silence 1\n",
       "62000.0      62.000                  Music 1\n",
       "92500.0      92.500      Part 3 Moving tasks\n",
       "101000.0    101.000                Verbalise\n",
       "112000.0    112.000                     Move\n",
       "121000.0    121.000            move to music\n",
       "126000.0    126.000                  Music 2\n",
       "156000.0    156.000  Part 4 Listening task 2\n",
       "168000.0    168.000                  Music 3\n",
       "198000.0    198.000        Phone realignment\n",
       "206000.0    206.000                  Music 4\n",
       "236000.0    236.000                Silence 2\n",
       "266000.0    266.000                   Thanks\n",
       "270000.0    270.000                Trial end"
      ]
     },
     "execution_count": 3,
     "metadata": {},
     "output_type": "execute_result"
    }
   ],
   "source": [
    "os.chdir('/Users/finn/Desktop/Current_Projects/Resp_Mobile_recording/Mobile_test/Data/')\n",
    "trial_wise = pd.read_csv('trial_wise.csv')\n",
    "trial_seq = pd.read_csv('Trial_Stim.csv')\n",
    "trial_times=trial_seq.iloc[:,:2].copy()\n",
    "\n",
    "trial_times['Time (ms)'] = units*trial_times['Time (s)']\n",
    "trial_times=trial_times.set_index(\"Time (ms)\", drop=True)\n",
    "trial_times"
   ]
  },
  {
   "cell_type": "markdown",
   "metadata": {},
   "source": [
    "# Condensed single trial\n",
    "gather all three signals for a single trial and confirm their alignment with crosscorrelations on subsections of the trails"
   ]
  },
  {
   "cell_type": "code",
   "execution_count": 44,
   "metadata": {},
   "outputs": [
    {
     "name": "stdout",
     "output_type": "stream",
     "text": [
      "resp belt sensor connection delay 13.1s\n"
     ]
    },
    {
     "data": {
      "text/plain": [
       "filename                       KB_Trial_03.qtm\n",
       "Data type                               Mocap \n",
       "Resp start                                 5.0\n",
       "Mobile start                               9.0\n",
       "Stim                                        14\n",
       "Trial stim                                  T3\n",
       "Participant                                 KB\n",
       "Trial order                                 11\n",
       "Mobile loc                                   6\n",
       "Music Move                              Seated\n",
       "Move Act                 lean forward and back\n",
       "Resp_file                        1615899258679\n",
       "Mobile_file     data_part2_trial_3_Stim_T3.csv\n",
       "mocap_file                     KB_Trial_03.tsv\n",
       "Name: 10, dtype: object"
      ]
     },
     "execution_count": 44,
     "metadata": {},
     "output_type": "execute_result"
    }
   ],
   "source": [
    "# trial timing information\n",
    "trial_n =10\n",
    "theta = np.pi*2*25/360 # phone angle\n",
    "\n",
    "# Trial to test\n",
    "trial_name = trial_wise.loc[trial_n,'Participant'] + '_' + trial_wise.loc[trial_n,'Trial stim']\n",
    "\n",
    "#import the three sets of sensor data\n",
    "# mobile app data\n",
    "os.chdir('/Users/finn/Desktop/Current_Projects/Resp_Mobile_recording/Mobile_test/Data/Acc/')\n",
    "df = pd.read_csv(trial_wise.loc[trial_n,'Mobile_file'])\n",
    "df['Time (ms)'] = (df['time']-df['time'].loc[0])-(trial_wise.loc[trial_n,'Stim']-trial_wise.loc[trial_n,'Mobile start'])*units # Time is time zero\n",
    "time_new = np.arange(df['Time (ms)'].iat[0],df['Time (ms)'].iat[-1],1/fs)\n",
    "df_rs = pd.DataFrame()\n",
    "df_rs['Time (ms)'] = time_new\n",
    "df_rs = df_rs.set_index('Time (ms)')\n",
    "df_rs['Time (s)'] = time_new/1000\n",
    "cols = ['x', 'y', 'z', 'alpha', 'beta', 'gamma']\n",
    "for c in cols:\n",
    "    f = interpolate.interp1d(df['Time (ms)'], df[c].values,fill_value='extrapolate')\n",
    "    df_rs[c] = f(time_new)-np.median(f(time_new))\n",
    "    df_rs['filt ' + c] = filtfilt(b, a, df_rs[c])\n",
    "    df_rs['diff ' + c] = respy.diffed(df_rs['filt ' + c])/np.median(np.abs(respy.diffed(respy.diffed(df_rs['filt ' + c]))))\n",
    "mob_rs = df_rs.copy()\n",
    "\n",
    "# respiration belt data\n",
    "os.chdir('/Users/finn/Documents/uio-ritmo/Sweetzpot Data/' + str(trial_wise.loc[trial_n,'Resp_file']) + '/')\n",
    "filename = 'Breathing2.csv'\n",
    "g = pd.read_csv(filename,',',header=None,names=['0','1','2','3','4','5'])\n",
    "resp_init = g.loc[g['1']=='force']\n",
    "respdelay = np.round(resp_init.iloc[0,0] - g.iloc[0,0],-2)\n",
    "print('resp belt sensor connection delay ' + str(respdelay/1000) + 's' ) #rounded to 10 hz\n",
    "\n",
    "# motion capture recordings\n",
    "os.chdir('/Users/finn/Desktop/Current_Projects/Resp_Mobile_recording/Mobile_test/Data/MC/')\n",
    "m = pd.read_csv(trial_wise.loc[trial_n,'mocap_file'], sep='\\t',header=None,names=['HEADT X', 'HEADT Y', 'HEADT Z', 'SHL X', 'SHL Y','SHL Z','SHR X', 'SHR Y', 'SHR Z','CH X', 'CH Y', 'CH Z'])\n",
    "mocap = m.loc[~m['CH Z'].isna(),:].copy()#.astype(float)\n",
    "mocap = mocap.iloc[1:,:]\n",
    "mocap.loc[:,'Time (ms)'] = (np.arange(0,len(mocap),)*units/120) - trial_wise.loc[trial_n,'Stim']*units\n",
    "trial_wise.loc[trial_n,:]"
   ]
  },
  {
   "cell_type": "code",
   "execution_count": 45,
   "metadata": {},
   "outputs": [
    {
     "data": {
      "text/html": [
       "<div>\n",
       "<style scoped>\n",
       "    .dataframe tbody tr th:only-of-type {\n",
       "        vertical-align: middle;\n",
       "    }\n",
       "\n",
       "    .dataframe tbody tr th {\n",
       "        vertical-align: top;\n",
       "    }\n",
       "\n",
       "    .dataframe thead th {\n",
       "        text-align: right;\n",
       "    }\n",
       "</style>\n",
       "<table border=\"1\" class=\"dataframe\">\n",
       "  <thead>\n",
       "    <tr style=\"text-align: right;\">\n",
       "      <th></th>\n",
       "      <th>Time (s)</th>\n",
       "      <th>Element</th>\n",
       "    </tr>\n",
       "    <tr>\n",
       "      <th>Time (ms)</th>\n",
       "      <th></th>\n",
       "      <th></th>\n",
       "    </tr>\n",
       "  </thead>\n",
       "  <tbody>\n",
       "    <tr>\n",
       "      <th>0.0</th>\n",
       "      <td>0.000</td>\n",
       "      <td>Trial number</td>\n",
       "    </tr>\n",
       "    <tr>\n",
       "      <th>2136.0</th>\n",
       "      <td>2.136</td>\n",
       "      <td>Part 1 Synchronisation</td>\n",
       "    </tr>\n",
       "    <tr>\n",
       "      <th>20000.0</th>\n",
       "      <td>20.000</td>\n",
       "      <td>taps</td>\n",
       "    </tr>\n",
       "    <tr>\n",
       "      <th>23450.0</th>\n",
       "      <td>23.450</td>\n",
       "      <td>Part 2 Listening task 1</td>\n",
       "    </tr>\n",
       "    <tr>\n",
       "      <th>32000.0</th>\n",
       "      <td>32.000</td>\n",
       "      <td>Silence 1</td>\n",
       "    </tr>\n",
       "    <tr>\n",
       "      <th>62000.0</th>\n",
       "      <td>62.000</td>\n",
       "      <td>Music 1</td>\n",
       "    </tr>\n",
       "    <tr>\n",
       "      <th>92500.0</th>\n",
       "      <td>92.500</td>\n",
       "      <td>Part 3 Moving tasks</td>\n",
       "    </tr>\n",
       "    <tr>\n",
       "      <th>101000.0</th>\n",
       "      <td>101.000</td>\n",
       "      <td>Verbalise</td>\n",
       "    </tr>\n",
       "    <tr>\n",
       "      <th>112000.0</th>\n",
       "      <td>112.000</td>\n",
       "      <td>Move</td>\n",
       "    </tr>\n",
       "    <tr>\n",
       "      <th>121000.0</th>\n",
       "      <td>121.000</td>\n",
       "      <td>move to music</td>\n",
       "    </tr>\n",
       "    <tr>\n",
       "      <th>126000.0</th>\n",
       "      <td>126.000</td>\n",
       "      <td>Music 2</td>\n",
       "    </tr>\n",
       "    <tr>\n",
       "      <th>156000.0</th>\n",
       "      <td>156.000</td>\n",
       "      <td>Part 4 Listening task 2</td>\n",
       "    </tr>\n",
       "    <tr>\n",
       "      <th>168000.0</th>\n",
       "      <td>168.000</td>\n",
       "      <td>Music 3</td>\n",
       "    </tr>\n",
       "    <tr>\n",
       "      <th>198000.0</th>\n",
       "      <td>198.000</td>\n",
       "      <td>Phone realignment</td>\n",
       "    </tr>\n",
       "    <tr>\n",
       "      <th>206000.0</th>\n",
       "      <td>206.000</td>\n",
       "      <td>Music 4</td>\n",
       "    </tr>\n",
       "    <tr>\n",
       "      <th>236000.0</th>\n",
       "      <td>236.000</td>\n",
       "      <td>Silence 2</td>\n",
       "    </tr>\n",
       "    <tr>\n",
       "      <th>266000.0</th>\n",
       "      <td>266.000</td>\n",
       "      <td>Thanks</td>\n",
       "    </tr>\n",
       "    <tr>\n",
       "      <th>270000.0</th>\n",
       "      <td>270.000</td>\n",
       "      <td>Trial end</td>\n",
       "    </tr>\n",
       "  </tbody>\n",
       "</table>\n",
       "</div>"
      ],
      "text/plain": [
       "           Time (s)                  Element\n",
       "Time (ms)                                   \n",
       "0.0           0.000             Trial number\n",
       "2136.0        2.136   Part 1 Synchronisation\n",
       "20000.0      20.000                     taps\n",
       "23450.0      23.450  Part 2 Listening task 1\n",
       "32000.0      32.000                Silence 1\n",
       "62000.0      62.000                  Music 1\n",
       "92500.0      92.500      Part 3 Moving tasks\n",
       "101000.0    101.000                Verbalise\n",
       "112000.0    112.000                     Move\n",
       "121000.0    121.000            move to music\n",
       "126000.0    126.000                  Music 2\n",
       "156000.0    156.000  Part 4 Listening task 2\n",
       "168000.0    168.000                  Music 3\n",
       "198000.0    198.000        Phone realignment\n",
       "206000.0    206.000                  Music 4\n",
       "236000.0    236.000                Silence 2\n",
       "266000.0    266.000                   Thanks\n",
       "270000.0    270.000                Trial end"
      ]
     },
     "execution_count": 45,
     "metadata": {},
     "output_type": "execute_result"
    }
   ],
   "source": [
    "trial_times"
   ]
  },
  {
   "cell_type": "code",
   "execution_count": 52,
   "metadata": {},
   "outputs": [
    {
     "data": {
      "text/plain": [
       "0    0.017\n",
       "dtype: float64"
      ]
     },
     "execution_count": 52,
     "metadata": {},
     "output_type": "execute_result"
    }
   ],
   "source": [
    "(df['time'].diff().mode()/1000)"
   ]
  },
  {
   "cell_type": "code",
   "execution_count": 63,
   "metadata": {},
   "outputs": [
    {
     "data": {
      "text/plain": [
       "(-7.0, -5.0)"
      ]
     },
     "execution_count": 63,
     "metadata": {},
     "output_type": "execute_result"
    },
    {
     "data": {
      "image/png": "[encoded data removed]",
      "text/plain": [
       "<Figure size 864x432 with 1 Axes>"
      ]
     },
     "metadata": {
      "needs_background": "light"
     },
     "output_type": "display_data"
    }
   ],
   "source": [
    "# sanity check on dropping precising of iphone acc output to 4 decimals. \n",
    "# Result: Hardly anything missed, but 1 decimal may be going too far.\n",
    "fig = plt.figure(figsize=(12,6))\n",
    "ax = plt.subplot(111)\n",
    "A = df.copy()\n",
    "A.loc[:,'z']=A['z'].round(1)\n",
    "A.plot.line(x = 'Time (ms)', y = 'z', ax=ax)\n",
    "A = df.copy()\n",
    "A.loc[:,'z']=A['z'].round(4)\n",
    "A.plot.line(x = 'Time (ms)', y = 'z', ax=ax)\n",
    "df.plot.line(x = 'Time (ms)', y = 'z', ax=ax)\n",
    "\n",
    "t_range = np.array([25,35])*units\n",
    "plt.xlim(t_range)\n",
    "plt.ylim([-7,-5])"
   ]
  },
  {
   "cell_type": "code",
   "execution_count": 48,
   "metadata": {},
   "outputs": [
    {
     "data": {
      "text/plain": [
       "timestamp    1.615899e+12\n",
       "time         1.173619e+06\n",
       "x            1.100540e+01\n",
       "y            1.445799e+00\n",
       "z           -1.211948e-02\n",
       "alpha        2.188452e+01\n",
       "beta         1.553973e+02\n",
       "gamma        3.171985e+01\n",
       "Time (ms)    2.720660e+05\n",
       "dtype: float64"
      ]
     },
     "execution_count": 48,
     "metadata": {},
     "output_type": "execute_result"
    }
   ],
   "source": [
    "df.max()"
   ]
  },
  {
   "cell_type": "code",
   "execution_count": 49,
   "metadata": {},
   "outputs": [
    {
     "name": "stdout",
     "output_type": "stream",
     "text": [
      "timestamp     29.000000\n",
      "time          28.000000\n",
      "x              1.691803\n",
      "y              1.307234\n",
      "z              5.743691\n",
      "alpha         24.045384\n",
      "beta         166.019765\n",
      "gamma         19.398103\n",
      "Time (ms)     28.000000\n",
      "dtype: float64\n"
     ]
    },
    {
     "data": {
      "text/plain": [
       "(0.0, 1.0)"
      ]
     },
     "execution_count": 49,
     "metadata": {},
     "output_type": "execute_result"
    },
    {
     "data": {
      "image/png": "[encoded data removed]",
      "text/plain": [
       "<Figure size 432x288 with 1 Axes>"
      ]
     },
     "metadata": {
      "needs_background": "light"
     },
     "output_type": "display_data"
    }
   ],
   "source": [
    "print(df.diff().abs().max())\n",
    "df['z'].diff().abs().hist(bins=1000)\n",
    "plt.xlim([0,1])\n"
   ]
  },
  {
   "cell_type": "code",
   "execution_count": null,
   "metadata": {},
   "outputs": [],
   "source": []
  },
  {
   "cell_type": "markdown",
   "metadata": {},
   "source": [
    "# Sync mobile with taps\n",
    "script to sync stimulus to mobile data using the timing of the three synch taps\n",
    "\n",
    "First detect the location of the three taps, then adjust the time vector to stimulus zero"
   ]
  },
  {
   "cell_type": "code",
   "execution_count": 22,
   "metadata": {},
   "outputs": [
    {
     "data": {
      "text/plain": [
       "(15000.0, 25000.0)"
      ]
     },
     "execution_count": 22,
     "metadata": {},
     "output_type": "execute_result"
    },
    {
     "data": {
      "image/png": "[encoded data removed]",
      "text/plain": [
       "<Figure size 432x288 with 1 Axes>"
      ]
     },
     "metadata": {
      "needs_background": "light"
     },
     "output_type": "display_data"
    }
   ],
   "source": [
    "t_range = np.array([15,25])*units\n",
    "#df['z'].plot()\n",
    "df.plot.line(x = 'Time (ms)', y = 'z')\n",
    "plt.xlim(t_range)\n",
    "\n",
    "# mob_rs['z'].diff().plot()\n",
    "# plt.xlim(t_range)"
   ]
  },
  {
   "cell_type": "code",
   "execution_count": 23,
   "metadata": {},
   "outputs": [
    {
     "data": {
      "text/html": [
       "<div>\n",
       "<style scoped>\n",
       "    .dataframe tbody tr th:only-of-type {\n",
       "        vertical-align: middle;\n",
       "    }\n",
       "\n",
       "    .dataframe tbody tr th {\n",
       "        vertical-align: top;\n",
       "    }\n",
       "\n",
       "    .dataframe thead th {\n",
       "        text-align: right;\n",
       "    }\n",
       "</style>\n",
       "<table border=\"1\" class=\"dataframe\">\n",
       "  <thead>\n",
       "    <tr style=\"text-align: right;\">\n",
       "      <th></th>\n",
       "      <th>timestamp</th>\n",
       "      <th>time</th>\n",
       "      <th>x</th>\n",
       "      <th>y</th>\n",
       "      <th>z</th>\n",
       "      <th>alpha</th>\n",
       "      <th>beta</th>\n",
       "      <th>gamma</th>\n",
       "      <th>Time (ms)</th>\n",
       "    </tr>\n",
       "  </thead>\n",
       "  <tbody>\n",
       "    <tr>\n",
       "      <th>0</th>\n",
       "      <td>1615819710731</td>\n",
       "      <td>3733374.4</td>\n",
       "      <td>-8.9</td>\n",
       "      <td>0.8</td>\n",
       "      <td>5.3</td>\n",
       "      <td>-8.0</td>\n",
       "      <td>0.3</td>\n",
       "      <td>0.3</td>\n",
       "      <td>-10000.0</td>\n",
       "    </tr>\n",
       "    <tr>\n",
       "      <th>1</th>\n",
       "      <td>1615819710748</td>\n",
       "      <td>3733391.1</td>\n",
       "      <td>-8.9</td>\n",
       "      <td>0.6</td>\n",
       "      <td>5.1</td>\n",
       "      <td>5.2</td>\n",
       "      <td>0.2</td>\n",
       "      <td>-0.7</td>\n",
       "      <td>-9983.3</td>\n",
       "    </tr>\n",
       "    <tr>\n",
       "      <th>2</th>\n",
       "      <td>1615819710764</td>\n",
       "      <td>3733407.8</td>\n",
       "      <td>-8.9</td>\n",
       "      <td>0.7</td>\n",
       "      <td>4.2</td>\n",
       "      <td>5.1</td>\n",
       "      <td>-1.2</td>\n",
       "      <td>-0.9</td>\n",
       "      <td>-9966.6</td>\n",
       "    </tr>\n",
       "    <tr>\n",
       "      <th>3</th>\n",
       "      <td>1615819710781</td>\n",
       "      <td>3733424.5</td>\n",
       "      <td>-8.9</td>\n",
       "      <td>0.9</td>\n",
       "      <td>4.4</td>\n",
       "      <td>0.9</td>\n",
       "      <td>-5.9</td>\n",
       "      <td>-0.2</td>\n",
       "      <td>-9949.9</td>\n",
       "    </tr>\n",
       "    <tr>\n",
       "      <th>4</th>\n",
       "      <td>1615819710798</td>\n",
       "      <td>3733441.1</td>\n",
       "      <td>-8.8</td>\n",
       "      <td>0.9</td>\n",
       "      <td>4.5</td>\n",
       "      <td>0.9</td>\n",
       "      <td>-8.8</td>\n",
       "      <td>-0.5</td>\n",
       "      <td>-9933.3</td>\n",
       "    </tr>\n",
       "    <tr>\n",
       "      <th>...</th>\n",
       "      <td>...</td>\n",
       "      <td>...</td>\n",
       "      <td>...</td>\n",
       "      <td>...</td>\n",
       "      <td>...</td>\n",
       "      <td>...</td>\n",
       "      <td>...</td>\n",
       "      <td>...</td>\n",
       "      <td>...</td>\n",
       "    </tr>\n",
       "    <tr>\n",
       "      <th>16952</th>\n",
       "      <td>1615819993253</td>\n",
       "      <td>4015896.6</td>\n",
       "      <td>-9.3</td>\n",
       "      <td>1.0</td>\n",
       "      <td>5.6</td>\n",
       "      <td>-24.2</td>\n",
       "      <td>1.1</td>\n",
       "      <td>5.3</td>\n",
       "      <td>272522.2</td>\n",
       "    </tr>\n",
       "    <tr>\n",
       "      <th>16953</th>\n",
       "      <td>1615819993270</td>\n",
       "      <td>4015913.2</td>\n",
       "      <td>-9.3</td>\n",
       "      <td>0.6</td>\n",
       "      <td>5.1</td>\n",
       "      <td>-8.8</td>\n",
       "      <td>0.7</td>\n",
       "      <td>2.2</td>\n",
       "      <td>272538.8</td>\n",
       "    </tr>\n",
       "    <tr>\n",
       "      <th>16954</th>\n",
       "      <td>1615819993286</td>\n",
       "      <td>4015929.9</td>\n",
       "      <td>-9.3</td>\n",
       "      <td>0.7</td>\n",
       "      <td>5.5</td>\n",
       "      <td>4.1</td>\n",
       "      <td>-0.9</td>\n",
       "      <td>-3.2</td>\n",
       "      <td>272555.5</td>\n",
       "    </tr>\n",
       "    <tr>\n",
       "      <th>16955</th>\n",
       "      <td>1615819993303</td>\n",
       "      <td>4015946.5</td>\n",
       "      <td>-9.1</td>\n",
       "      <td>0.9</td>\n",
       "      <td>5.9</td>\n",
       "      <td>20.5</td>\n",
       "      <td>-7.6</td>\n",
       "      <td>-0.1</td>\n",
       "      <td>272572.1</td>\n",
       "    </tr>\n",
       "    <tr>\n",
       "      <th>16956</th>\n",
       "      <td>1615819993323</td>\n",
       "      <td>4015966.4</td>\n",
       "      <td>-9.9</td>\n",
       "      <td>0.9</td>\n",
       "      <td>3.4</td>\n",
       "      <td>36.5</td>\n",
       "      <td>-25.9</td>\n",
       "      <td>8.2</td>\n",
       "      <td>272592.0</td>\n",
       "    </tr>\n",
       "  </tbody>\n",
       "</table>\n",
       "<p>16957 rows × 9 columns</p>\n",
       "</div>"
      ],
      "text/plain": [
       "           timestamp       time    x    y    z  alpha  beta  gamma  Time (ms)\n",
       "0      1615819710731  3733374.4 -8.9  0.8  5.3   -8.0   0.3    0.3   -10000.0\n",
       "1      1615819710748  3733391.1 -8.9  0.6  5.1    5.2   0.2   -0.7    -9983.3\n",
       "2      1615819710764  3733407.8 -8.9  0.7  4.2    5.1  -1.2   -0.9    -9966.6\n",
       "3      1615819710781  3733424.5 -8.9  0.9  4.4    0.9  -5.9   -0.2    -9949.9\n",
       "4      1615819710798  3733441.1 -8.8  0.9  4.5    0.9  -8.8   -0.5    -9933.3\n",
       "...              ...        ...  ...  ...  ...    ...   ...    ...        ...\n",
       "16952  1615819993253  4015896.6 -9.3  1.0  5.6  -24.2   1.1    5.3   272522.2\n",
       "16953  1615819993270  4015913.2 -9.3  0.6  5.1   -8.8   0.7    2.2   272538.8\n",
       "16954  1615819993286  4015929.9 -9.3  0.7  5.5    4.1  -0.9   -3.2   272555.5\n",
       "16955  1615819993303  4015946.5 -9.1  0.9  5.9   20.5  -7.6   -0.1   272572.1\n",
       "16956  1615819993323  4015966.4 -9.9  0.9  3.4   36.5 -25.9    8.2   272592.0\n",
       "\n",
       "[16957 rows x 9 columns]"
      ]
     },
     "execution_count": 23,
     "metadata": {},
     "output_type": "execute_result"
    }
   ],
   "source": [
    "df"
   ]
  },
  {
   "cell_type": "code",
   "execution_count": 24,
   "metadata": {},
   "outputs": [
    {
     "data": {
      "text/plain": [
       "timestamp    1.615820e+12\n",
       "time         4.015966e+06\n",
       "x           -6.600000e+00\n",
       "y            4.200000e+00\n",
       "z            1.860000e+01\n",
       "alpha        6.450000e+01\n",
       "beta         5.719000e+02\n",
       "gamma        2.630000e+01\n",
       "Time (ms)    2.725920e+05\n",
       "dtype: float64"
      ]
     },
     "execution_count": 24,
     "metadata": {},
     "output_type": "execute_result"
    }
   ],
   "source": [
    "df.max()"
   ]
  },
  {
   "cell_type": "code",
   "execution_count": 26,
   "metadata": {},
   "outputs": [
    {
     "name": "stdout",
     "output_type": "stream",
     "text": [
      "timestamp    8.0\n",
      "time         9.8\n",
      "x            0.0\n",
      "y            0.0\n",
      "z            0.0\n",
      "alpha        0.0\n",
      "beta         0.0\n",
      "gamma        0.0\n",
      "Time (ms)    9.8\n",
      "dtype: float64\n"
     ]
    },
    {
     "data": {
      "text/plain": [
       "array([[<AxesSubplot:title={'center':'timestamp'}>,\n",
       "        <AxesSubplot:title={'center':'time'}>,\n",
       "        <AxesSubplot:title={'center':'x'}>],\n",
       "       [<AxesSubplot:title={'center':'y'}>,\n",
       "        <AxesSubplot:title={'center':'z'}>,\n",
       "        <AxesSubplot:title={'center':'alpha'}>],\n",
       "       [<AxesSubplot:title={'center':'beta'}>,\n",
       "        <AxesSubplot:title={'center':'gamma'}>,\n",
       "        <AxesSubplot:title={'center':'Time (ms)'}>]], dtype=object)"
      ]
     },
     "execution_count": 26,
     "metadata": {},
     "output_type": "execute_result"
    },
    {
     "data": {
      "image/png": "[encoded data removed]",
      "text/plain": [
       "<Figure size 432x288 with 9 Axes>"
      ]
     },
     "metadata": {
      "needs_background": "light"
     },
     "output_type": "display_data"
    }
   ],
   "source": [
    "print(df.diff().abs().min())\n",
    "df.diff().abs().hist()"
   ]
  },
  {
   "cell_type": "code",
   "execution_count": null,
   "metadata": {},
   "outputs": [],
   "source": []
  }
 ],
 "metadata": {
  "kernelspec": {
   "display_name": "Python 3",
   "language": "python",
   "name": "python3"
  },
  "language_info": {
   "codemirror_mode": {
    "name": "ipython",
    "version": 3
   },
   "file_extension": ".py",
   "mimetype": "text/x-python",
   "name": "python",
   "nbconvert_exporter": "python",
   "pygments_lexer": "ipython3",
   "version": "3.8.8"
  }
 },
 "nbformat": 4,
 "nbformat_minor": 4
}
