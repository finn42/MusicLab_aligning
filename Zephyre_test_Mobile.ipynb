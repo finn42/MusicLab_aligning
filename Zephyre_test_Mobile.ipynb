{
 "cells": [
  {
   "cell_type": "code",
   "execution_count": 1,
   "metadata": {},
   "outputs": [],
   "source": [
    "import sys\n",
    "import os\n",
    "import time\n",
    "import datetime as dt\n",
    "import math\n",
    "import numpy as np \n",
    "import scipy as sp\n",
    "import pandas as pd\n",
    "import matplotlib.pyplot as plt\n",
    "import seaborn as sns\n",
    "import pingouin as pg\n",
    "from scipy.signal import butter,filtfilt\n",
    "from scipy import interpolate\n",
    "from scipy.interpolate import interp1d\n",
    "\n",
    "import activityanalysis_test as act\n",
    "import respy_test as respy"
   ]
  },
  {
   "cell_type": "code",
   "execution_count": 2,
   "metadata": {},
   "outputs": [],
   "source": [
    "# conditions for comparison 246900 289766\n",
    "units = 1000 # ms\n",
    "fs = 50/units # 10 Hz\n",
    "\n",
    "cutoff = np.array([0.5])/units # filtering to between 1 and 0.05 hz\n",
    "nyq = 1 * fs \n",
    "order = 2 \n",
    "normal_cutoff = cutoff / nyq\n",
    "b, a = butter(order, normal_cutoff, btype='lowpass', analog=False)"
   ]
  },
  {
   "cell_type": "code",
   "execution_count": 3,
   "metadata": {},
   "outputs": [
    {
     "data": {
      "text/html": [
       "<div>\n",
       "<style scoped>\n",
       "    .dataframe tbody tr th:only-of-type {\n",
       "        vertical-align: middle;\n",
       "    }\n",
       "\n",
       "    .dataframe tbody tr th {\n",
       "        vertical-align: top;\n",
       "    }\n",
       "\n",
       "    .dataframe thead th {\n",
       "        text-align: right;\n",
       "    }\n",
       "</style>\n",
       "<table border=\"1\" class=\"dataframe\">\n",
       "  <thead>\n",
       "    <tr style=\"text-align: right;\">\n",
       "      <th></th>\n",
       "      <th>Time (s)</th>\n",
       "      <th>Element</th>\n",
       "    </tr>\n",
       "    <tr>\n",
       "      <th>Time (ms)</th>\n",
       "      <th></th>\n",
       "      <th></th>\n",
       "    </tr>\n",
       "  </thead>\n",
       "  <tbody>\n",
       "    <tr>\n",
       "      <th>0.0</th>\n",
       "      <td>0.000</td>\n",
       "      <td>Trial number</td>\n",
       "    </tr>\n",
       "    <tr>\n",
       "      <th>2136.0</th>\n",
       "      <td>2.136</td>\n",
       "      <td>Part 1 Synchronisation</td>\n",
       "    </tr>\n",
       "    <tr>\n",
       "      <th>20000.0</th>\n",
       "      <td>20.000</td>\n",
       "      <td>taps</td>\n",
       "    </tr>\n",
       "    <tr>\n",
       "      <th>23450.0</th>\n",
       "      <td>23.450</td>\n",
       "      <td>Part 2 Listening task 1</td>\n",
       "    </tr>\n",
       "    <tr>\n",
       "      <th>32000.0</th>\n",
       "      <td>32.000</td>\n",
       "      <td>Silence 1</td>\n",
       "    </tr>\n",
       "    <tr>\n",
       "      <th>62000.0</th>\n",
       "      <td>62.000</td>\n",
       "      <td>Music 1</td>\n",
       "    </tr>\n",
       "    <tr>\n",
       "      <th>92500.0</th>\n",
       "      <td>92.500</td>\n",
       "      <td>Part 3 Moving tasks</td>\n",
       "    </tr>\n",
       "    <tr>\n",
       "      <th>101000.0</th>\n",
       "      <td>101.000</td>\n",
       "      <td>Verbalise</td>\n",
       "    </tr>\n",
       "    <tr>\n",
       "      <th>112000.0</th>\n",
       "      <td>112.000</td>\n",
       "      <td>Move</td>\n",
       "    </tr>\n",
       "    <tr>\n",
       "      <th>121000.0</th>\n",
       "      <td>121.000</td>\n",
       "      <td>move to music</td>\n",
       "    </tr>\n",
       "    <tr>\n",
       "      <th>126000.0</th>\n",
       "      <td>126.000</td>\n",
       "      <td>Music 2</td>\n",
       "    </tr>\n",
       "    <tr>\n",
       "      <th>156000.0</th>\n",
       "      <td>156.000</td>\n",
       "      <td>Part 4 Listening task 2</td>\n",
       "    </tr>\n",
       "    <tr>\n",
       "      <th>168000.0</th>\n",
       "      <td>168.000</td>\n",
       "      <td>Music 3</td>\n",
       "    </tr>\n",
       "    <tr>\n",
       "      <th>198000.0</th>\n",
       "      <td>198.000</td>\n",
       "      <td>Phone realignment</td>\n",
       "    </tr>\n",
       "    <tr>\n",
       "      <th>206000.0</th>\n",
       "      <td>206.000</td>\n",
       "      <td>Music 4</td>\n",
       "    </tr>\n",
       "    <tr>\n",
       "      <th>236000.0</th>\n",
       "      <td>236.000</td>\n",
       "      <td>Silence 2</td>\n",
       "    </tr>\n",
       "    <tr>\n",
       "      <th>266000.0</th>\n",
       "      <td>266.000</td>\n",
       "      <td>Thanks</td>\n",
       "    </tr>\n",
       "    <tr>\n",
       "      <th>270000.0</th>\n",
       "      <td>270.000</td>\n",
       "      <td>Trial end</td>\n",
       "    </tr>\n",
       "  </tbody>\n",
       "</table>\n",
       "</div>"
      ],
      "text/plain": [
       "           Time (s)                  Element\n",
       "Time (ms)                                   \n",
       "0.0           0.000             Trial number\n",
       "2136.0        2.136   Part 1 Synchronisation\n",
       "20000.0      20.000                     taps\n",
       "23450.0      23.450  Part 2 Listening task 1\n",
       "32000.0      32.000                Silence 1\n",
       "62000.0      62.000                  Music 1\n",
       "92500.0      92.500      Part 3 Moving tasks\n",
       "101000.0    101.000                Verbalise\n",
       "112000.0    112.000                     Move\n",
       "121000.0    121.000            move to music\n",
       "126000.0    126.000                  Music 2\n",
       "156000.0    156.000  Part 4 Listening task 2\n",
       "168000.0    168.000                  Music 3\n",
       "198000.0    198.000        Phone realignment\n",
       "206000.0    206.000                  Music 4\n",
       "236000.0    236.000                Silence 2\n",
       "266000.0    266.000                   Thanks\n",
       "270000.0    270.000                Trial end"
      ]
     },
     "execution_count": 3,
     "metadata": {},
     "output_type": "execute_result"
    }
   ],
   "source": [
    "os.chdir('/Users/finn/Desktop/Current_Projects/Resp_Mobile_recording/Mobile_test/Data/')\n",
    "trial_wise = pd.read_csv('trial_wise.csv')\n",
    "trial_seq = pd.read_csv('Trial_Stim.csv')\n",
    "trial_times=trial_seq.iloc[:,:2].copy()\n",
    "\n",
    "trial_times['Time (ms)'] = units*trial_times['Time (s)']\n",
    "trial_times=trial_times.set_index(\"Time (ms)\", drop=True)\n",
    "trial_times"
   ]
  },
  {
   "cell_type": "code",
   "execution_count": 4,
   "metadata": {},
   "outputs": [
    {
     "data": {
      "text/plain": [
       "['2021_09_21-11_16_54_Summary.dat',\n",
       " '2021_09_21-11_16_54_Event_Data_1.csv',\n",
       " '2021_09_21-11_16_54_SessionInfo.txt',\n",
       " '2021_09_21-11_16_54_Breathing.dat',\n",
       " '2021_09_21-11_16_54_ECG.csv',\n",
       " '2021_09_21-11_16_54_Accel.dat',\n",
       " '2021_09_21-11_16_54_BB.csv',\n",
       " '2021_09_21-11_16_54_RR.hed',\n",
       " '2021_09_21-11_16_54_Accel.hed',\n",
       " '2021_09_21-11_16_54_RR.dat',\n",
       " '2021_09_21-11_16_54_Breathing.hed',\n",
       " '2021_09_21-11_16_54_Summary.hed',\n",
       " '2021_09_21-11_16_54_ECG.hed',\n",
       " '2021_09_21-11_16_54_BB.hed',\n",
       " '2021_09_21-11_16_54_RR.csv',\n",
       " '2021_09_21-11_16_54_Accel.csv',\n",
       " '2021_09_21-11_16_54_BB.dat',\n",
       " '2021_09_21-11_16_54_ECG.dat',\n",
       " '2021_09_21-11_16_54_Breathing.csv',\n",
       " '2021_09_21-11_16_54_Summary.csv']"
      ]
     },
     "execution_count": 4,
     "metadata": {},
     "output_type": "execute_result"
    }
   ],
   "source": [
    "os.chdir('/Users/finn/Desktop/Current_Projects/Resp_Mobile_recording/AppData_assessment/eirik_data/2021_09_21-11_16_54/')\n",
    "os.listdir()"
   ]
  },
  {
   "cell_type": "code",
   "execution_count": 5,
   "metadata": {},
   "outputs": [],
   "source": [
    "resp_init = pd.read_csv('2021_09_21-11_16_54_Breathing.csv')\n",
    "resp_init[\"Time\"] = pd.to_datetime(resp_init[\"Time\"])\n",
    "resp_init =resp_init.set_index(\"Time\")\n",
    "\n",
    "df_resp = resp_init.iloc[2000:49800,:]"
   ]
  },
  {
   "cell_type": "code",
   "execution_count": 6,
   "metadata": {},
   "outputs": [
    {
     "data": {
      "image/png": "[encoded data removed]",
      "text/plain": [
       "<Figure size 864x288 with 1 Axes>"
      ]
     },
     "metadata": {
      "needs_background": "light"
     },
     "output_type": "display_data"
    }
   ],
   "source": [
    "fig = plt.figure(figsize=(12,4))\n",
    "ax = plt.subplot(111)\n",
    "df_resp = resp_init.iloc[14500:17000,:] # 3000:48700\n",
    "df_resp.plot.line(ax = ax)\n",
    "plt.show()"
   ]
  },
  {
   "cell_type": "code",
   "execution_count": null,
   "metadata": {},
   "outputs": [],
   "source": []
  },
  {
   "cell_type": "code",
   "execution_count": null,
   "metadata": {},
   "outputs": [],
   "source": []
  },
  {
   "cell_type": "code",
   "execution_count": null,
   "metadata": {},
   "outputs": [],
   "source": [
    "#t_range = np.array([-20,300])*units\n",
    "fig = plt.figure(figsize=(12,4))\n",
    "dims = ['belt']\n",
    "for i in range(len(dims)):\n",
    "    d = dims[i]\n",
    "    ax = plt.subplot(211 + i)\n",
    "    df_rs.plot.line(y=d,ax=ax)\n",
    "    df_rs.plot.line(y='filt ' + d,ax=ax)\n",
    "    plt.ylim(-100,300)\n",
    "    if i == 0: plt.title(trial_name + ' respiration belt measurements')\n",
    "    plt.xticks(trial_times.index,trial_times[\"Time (s)\"])#, concert_times['event'])\n",
    "    plt.grid()\n",
    "    plt.xlim(t_range)\n",
    "    \n",
    "ax = plt.subplot(212)\n",
    "for d in dims:\n",
    "    df_rs.plot.line(y='diff ' + d,ax=ax)\n",
    "    plt.ylim(-40,40)\n",
    "    plt.xticks(trial_times.index,trial_times.Element, rotation='vertical')#, concert_times['event'])\n",
    "    plt.grid()\n",
    "    plt.xlim(t_range)\n",
    "    \n",
    "plt.savefig('filtered_Resp.png',dpi = 300)\n",
    "plt.show()"
   ]
  }
 ],
 "metadata": {
  "kernelspec": {
   "display_name": "Python 3",
   "language": "python",
   "name": "python3"
  },
  "language_info": {
   "codemirror_mode": {
    "name": "ipython",
    "version": 3
   },
   "file_extension": ".py",
   "mimetype": "text/x-python",
   "name": "python",
   "nbconvert_exporter": "python",
   "pygments_lexer": "ipython3",
   "version": "3.8.8"
  }
 },
 "nbformat": 4,
 "nbformat_minor": 4
}
